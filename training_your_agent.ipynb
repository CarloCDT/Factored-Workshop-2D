{
 "cells": [
  {
   "cell_type": "code",
   "execution_count": null,
   "metadata": {},
   "outputs": [],
   "source": [
    "# ML-Agents\n",
    "from mlagents_envs.environment import UnityEnvironment\n",
    "from mlagents_envs.envs.unity_gym_env import UnityToGymWrapper\n",
    "from mlagents_envs.side_channel.engine_configuration_channel import EngineConfigurationChannel\n",
    "\n",
    "# Reinforce Lab & plots\n",
    "from q_learning import QLearningAgent\n",
    "from plots import plot_performance, plot_state_values, plot_frequencies\n",
    "\n",
    "# Imports\n",
    "import numpy as np\n",
    "from tqdm import tqdm"
   ]
  },
  {
   "cell_type": "code",
   "execution_count": null,
   "metadata": {},
   "outputs": [],
   "source": [
    "# Environment\n",
    "channel = EngineConfigurationChannel()\n",
    "unity_env = UnityEnvironment(file_name = 'app/Windows/Factored-Workshop-2D.exe', seed=0, side_channels=[channel])\n",
    "\n",
    "# Set Speed\n",
    "channel.set_configuration_parameters(time_scale = 20)\n",
    "\n",
    "env = UnityToGymWrapper(\n",
    "    unity_env=unity_env,\n",
    "    flatten_branched=False, \n",
    "    allow_multiple_obs=False ,\n",
    "    action_space_seed=None\n",
    "    )"
   ]
  },
  {
   "cell_type": "code",
   "execution_count": null,
   "metadata": {},
   "outputs": [],
   "source": [
    "### TODO ------------------------------------------\n",
    "# Modify the grid according to your environment\n",
    "x_min = -2\n",
    "x_max = 12\n",
    "y_min = 0\n",
    "y_max = 9\n",
    "#--------------------------------------------------"
   ]
  },
  {
   "cell_type": "code",
   "execution_count": null,
   "metadata": {},
   "outputs": [],
   "source": [
    "# Let's transform coordinates to a natural number.\n",
    "cord_to_idx = {}\n",
    "idx = 0\n",
    "\n",
    "for x in range(x_min, x_max):\n",
    "    for y in range(y_min, y_max):\n",
    "        cord_to_idx[(x,y)] = idx\n",
    "        idx += 1\n",
    "\n",
    "# Set Environment Attribute\n",
    "env.custom_observation_space_dict = cord_to_idx\n",
    "\n",
    "# Get inverse map\n",
    "idx_to_cord = {v: k for k, v in cord_to_idx.items()}"
   ]
  },
  {
   "cell_type": "code",
   "execution_count": null,
   "metadata": {},
   "outputs": [],
   "source": [
    "# Train function\n",
    "def train(env, agent, path, num_epochs=1_000, epsilon=0.5, epsilon_decay=4e-6, min_epsilon=.01):\n",
    "    loop = tqdm(range(num_epochs))\n",
    "    best_avg_reward = float(\"-inf\")\n",
    "    rewards_history = []\n",
    "    state_history = []\n",
    "\n",
    "    for _ in loop:\n",
    "        state = env.reset()\n",
    "        \n",
    "        # Transform (x,y)->idx\n",
    "        state = cord_to_idx[tuple(state[:2])]\n",
    "        state_history.append(state)\n",
    "\n",
    "        epoch_cum_reward = 0\n",
    "        while True:\n",
    "            # Generate a RL interaction\n",
    "            action = agent.act(state, epsilon=epsilon)\n",
    "            next_state, reward, done, info = env.step(action)\n",
    "\n",
    "            # Transform (x,y,z)->idx\n",
    "            next_state = cord_to_idx[tuple(next_state[:2])]\n",
    "            state_history.append(next_state)\n",
    "            \n",
    "            agent.update(state, action, reward, next_state, done)\n",
    "\n",
    "            # Update epsilon\n",
    "            epsilon = max(min_epsilon, epsilon * (1 - epsilon_decay))\n",
    "\n",
    "            epoch_cum_reward += reward\n",
    "            state = next_state\n",
    "\n",
    "            if done:\n",
    "                break\n",
    "\n",
    "        # Show performance\n",
    "        rewards_history.append(epoch_cum_reward)\n",
    "        rewards_window = rewards_history[-100:]\n",
    "        avg_reward = sum(rewards_window)/len(rewards_window)\n",
    "\n",
    "        # Save best model\n",
    "        if avg_reward > best_avg_reward:\n",
    "            best_avg_reward = avg_reward\n",
    "            agent.save(path)\n",
    "\n",
    "        loop.set_description(\n",
    "            f\"Avg 100eps Reward: {round(avg_reward, 4)} | Epsilon: {round(epsilon, 3)}\")\n",
    "    return rewards_history, state_history\n",
    "\n",
    "# Test Function\n",
    "def test(env, agent, num_episodes=100):\n",
    "    cum_reward = 0\n",
    "    rewards_history = []\n",
    "    state_history = []\n",
    "\n",
    "    for _ in tqdm(range(num_episodes)):\n",
    "        state = env.reset()\n",
    "\n",
    "        # Transform (x,y)->idx\n",
    "        state = cord_to_idx[tuple(state[:2])]\n",
    "        state_history.append(state)\n",
    "\n",
    "        ep_cum_reward = 0\n",
    "        while True:\n",
    "            action = agent.act(state, epsilon=0)\n",
    "            next_state, reward, done, info = env.step(action)\n",
    "            ep_cum_reward += reward\n",
    "\n",
    "            # Transform (x,y)->idx\n",
    "            state = cord_to_idx[tuple(next_state[:2])]\n",
    "            state_history.append(state)\n",
    "\n",
    "            if done:\n",
    "                break\n",
    "\n",
    "        cum_reward += ep_cum_reward\n",
    "        rewards_history.append(ep_cum_reward)\n",
    "\n",
    "    avg_reward = cum_reward / num_episodes\n",
    "    env.close()\n",
    "    print(f\"The agent obtained an average reward of {round(avg_reward, 4)} over {num_episodes} episode(s)\")\n",
    "    return rewards_history, state_history\n",
    "\n",
    "\n",
    "# Train Agent\n",
    "agent = QLearningAgent(env, gamma=0.9999, alpha=0.10)\n",
    "path = \"factored-workshop-agent-live\"\n",
    "rewards_history, state_history = train(env, agent, path, num_epochs=500, epsilon=0.2, epsilon_decay=1e-4, min_epsilon=.05)"
   ]
  },
  {
   "cell_type": "code",
   "execution_count": null,
   "metadata": {},
   "outputs": [],
   "source": [
    "agent.load(\"factored-workshop-agent\") # Pre-trained\n",
    "training_rewards_history, training_state_history = test(env, agent)"
   ]
  },
  {
   "cell_type": "code",
   "execution_count": null,
   "metadata": {},
   "outputs": [],
   "source": [
    "# Performance Plots\n",
    "plot_performance(rewards_history, title='Training - Total Reward per Episode')\n",
    "plot_performance(training_rewards_history, title='Testing - Reward per Episode')"
   ]
  },
  {
   "cell_type": "code",
   "execution_count": null,
   "metadata": {},
   "outputs": [],
   "source": [
    "# State Values\n",
    "plot_state_values(agent.qtable, idx_to_cord)"
   ]
  },
  {
   "cell_type": "code",
   "execution_count": null,
   "metadata": {},
   "outputs": [],
   "source": [
    "# State Frequencies\n",
    "plot_frequencies(state_history, training_state_history, idx_to_cord)"
   ]
  },
  {
   "attachments": {},
   "cell_type": "markdown",
   "metadata": {},
   "source": [
    "Factored 2023 - Reinforcement Learning & Unity Workshop ©"
   ]
  }
 ],
 "metadata": {
  "kernelspec": {
   "display_name": "unity",
   "language": "python",
   "name": "python3"
  },
  "language_info": {
   "codemirror_mode": {
    "name": "ipython",
    "version": 3
   },
   "file_extension": ".py",
   "mimetype": "text/x-python",
   "name": "python",
   "nbconvert_exporter": "python",
   "pygments_lexer": "ipython3",
   "version": "3.9.13"
  },
  "orig_nbformat": 4
 },
 "nbformat": 4,
 "nbformat_minor": 2
}
